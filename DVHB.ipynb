{
  "nbformat": 4,
  "nbformat_minor": 0,
  "metadata": {
    "colab": {
      "name": "DVHB.ipynb",
      "provenance": [],
      "collapsed_sections": [],
      "toc_visible": true
    },
    "kernelspec": {
      "name": "python3",
      "display_name": "Python 3"
    }
  },
  "cells": [
    {
      "cell_type": "markdown",
      "metadata": {
        "id": "UyVUjKGmZtu0"
      },
      "source": [
        "# Задание и источники данных\n",
        "\n",
        "[Задание (Notion)](https://www.notion.so/DVHB-d3be8306f85e40dd842d23056dbf5359)\n",
        "\n",
        "[Датасет (Kaggle)](https://www.kaggle.com/denisthemartyr/dvhb-hackathon/)\n",
        "\n",
        "[Классификация кодов культур и групп](https://geoservices.ign.fr/documentation/diffusion/documentation-offre.html)\n",
        "\n",
        "[Список кодов](https://geoservices.ign.fr/ressources_documentaires/Espace_documentaire/BASES_VECTORIELLES/RPG/Codification_cultures_principales.csv)"
      ]
    },
    {
      "cell_type": "code",
      "metadata": {
        "id": "XmVAef4-x2z_",
        "colab": {
          "base_uri": "https://localhost:8080/"
        },
        "outputId": "0b5d8a8d-1967-404c-8616-7b58b06fd494"
      },
      "source": [
        "from google.colab import drive\n",
        "drive.mount('/content/drive')"
      ],
      "execution_count": null,
      "outputs": [
        {
          "output_type": "stream",
          "text": [
            "Mounted at /content/drive\n"
          ],
          "name": "stdout"
        }
      ]
    },
    {
      "cell_type": "markdown",
      "metadata": {
        "id": "ObORBhY_a3T8"
      },
      "source": [
        "# Подготовка данных"
      ]
    },
    {
      "cell_type": "markdown",
      "metadata": {
        "id": "PxcolMqObIKn"
      },
      "source": [
        "**Скачиваем датасет**"
      ]
    },
    {
      "cell_type": "code",
      "metadata": {
        "id": "L-dSDxXQQygG"
      },
      "source": [
        "import os\n",
        "os.chdir(\"/content\")"
      ],
      "execution_count": null,
      "outputs": []
    },
    {
      "cell_type": "markdown",
      "metadata": {
        "id": "ILDRRsor4gDu"
      },
      "source": [
        "**Скачиваем на Colab датасет archive.zip (train, test) and raw_archive.zip (2010-2014)**"
      ]
    },
    {
      "cell_type": "code",
      "metadata": {
        "id": "O2RAy61oXNZp",
        "colab": {
          "base_uri": "https://localhost:8080/"
        },
        "outputId": "d7fd2b1f-229f-4a24-ec6c-30c98aab448b"
      },
      "source": [
        "!mkdir -p dvhb_data dvhb_data/raw_data && wget -q -O dvhb_data/archive.zip \"http://35.156.82.253:8000/archive.zip\" && unzip -qq dvhb_data/archive.zip -d dvhb_data && wget -q -O dvhb_data/raw_data.zip \"http://35.156.82.253:8000/raw_archive.zip\" && unzip -qq dvhb_data/raw_data.zip -d dvhb_data/raw_data && echo \"Dataset unpack done!\""
      ],
      "execution_count": null,
      "outputs": [
        {
          "output_type": "stream",
          "text": [
            "Dataset unpack done!\n"
          ],
          "name": "stdout"
        }
      ]
    },
    {
      "cell_type": "code",
      "metadata": {
        "id": "q9wNH9DDR0x_"
      },
      "source": [
        "#!mkdir -p dvhb_data dvhb_data/train && wget --load-cookies /tmp/cookies.txt \"https://docs.google.com/uc?export=download&confirm=$(wget --quiet --save-cookies /tmp/cookies.txt --keep-session-cookies --no-check-certificate 'https://docs.google.com/uc?export=download&id=1ONDEAzm8UmLZ-dldLSCW-rGhxWeVTm49' -O- | sed -rn 's/.*confirm=([0-9A-Za-z_]+).*/\\1\\n/p')&id=1ONDEAzm8UmLZ-dldLSCW-rGhxWeVTm49\" -O dvhb_data/train/grouped_train_full.csv && rm -rf /tmp/cookies.txt"
      ],
      "execution_count": null,
      "outputs": []
    },
    {
      "cell_type": "code",
      "metadata": {
        "id": "laHkeEeN1aJ-"
      },
      "source": [
        "grouped_df_train = pd.read_csv(\"http://35.156.82.253:8000/grouped_train_full.csv\")"
      ],
      "execution_count": null,
      "outputs": []
    },
    {
      "cell_type": "markdown",
      "metadata": {
        "id": "xtJnqWEs4q4o"
      },
      "source": [
        "**Скачиваем на Colab наш датасет с переводом культур и групп (это модифицированный датасет [Классификация кодов культур и групп](https://geoservices.ign.fr/ressources_documentaires/Espace_documentaire/BASES_VECTORIELLES/RPG/Codification_cultures_principales.csv))**"
      ]
    },
    {
      "cell_type": "code",
      "metadata": {
        "id": "oyL14wYD4UqW"
      },
      "source": [
        "!wget -q -O dvhb_data/class_cult_translate.csv \"http://35.156.82.253:8000/class_cult_translate.csv\""
      ],
      "execution_count": null,
      "outputs": []
    },
    {
      "cell_type": "code",
      "metadata": {
        "id": "KgEiACPBOlZi",
        "colab": {
          "base_uri": "https://localhost:8080/"
        },
        "outputId": "5d52abd4-509e-4e7f-8b25-94c51ce80655"
      },
      "source": [
        "!pip install tqdm"
      ],
      "execution_count": null,
      "outputs": [
        {
          "output_type": "stream",
          "text": [
            "Requirement already satisfied: tqdm in /usr/local/lib/python3.7/dist-packages (4.41.1)\n"
          ],
          "name": "stdout"
        }
      ]
    },
    {
      "cell_type": "markdown",
      "metadata": {
        "id": "Oz1l-56fGxd1"
      },
      "source": [
        "## **Единое обозначение полей для всех данных:**\n",
        "---\n",
        "**CODE_CULT = (код культуры например: \"PPH\")**\n",
        "\n",
        "**CODE_GROUP = (код группы культуры например: \"18\", всего 28)**\n",
        "\n",
        "**CENTROID = (координаты центра поля например: \"Point (907753.82834152 6554634.46488151\")**\n",
        "\n",
        "**YEAR = (год из какого имени файла датасета брались данные, например: \"2015\")**\n",
        "\n",
        "**LIBELLE_CULT = (наименование культуры на французском языке, например: \"Fourrage\")**\n",
        "\n",
        "**LIBELLE_CULT_RUS = (наименование культуры на русском языке, например: \"Фураж\")**\n",
        "\n",
        "**GROUP_CULT = (наименование группы культуры на французском языке, например: \"Autres céréales\")**\n",
        "\n",
        "**GROUP_CULT_RUS = (наименование группы культуры на русском языке, например: \"Другие злаки\")**\n",
        "\n",
        "**NUM_ILOT = (какой-то уникальный идентификатор, например: \"006-603\")**\n",
        "\n",
        "**NOTES = (пометки)**"
      ]
    },
    {
      "cell_type": "markdown",
      "metadata": {
        "id": "pImq1_9YG5wS"
      },
      "source": [
        "---\n"
      ]
    },
    {
      "cell_type": "markdown",
      "metadata": {
        "id": "qqGPDhTDb6HC"
      },
      "source": [
        "**Функция my_full_cvs сливает вместе файлы *.csv из папки train (2015-2019) в один файл train_full.csv для тренировочной выборки**\n",
        "\n"
      ]
    },
    {
      "cell_type": "code",
      "metadata": {
        "id": "LQj5KPGgOnmZ"
      },
      "source": [
        "import os\n",
        "import glob\n",
        "import re\n",
        "import pandas as pd\n",
        "from typing import Tuple, Optional\n",
        "from tqdm import tqdm"
      ],
      "execution_count": null,
      "outputs": []
    },
    {
      "cell_type": "code",
      "metadata": {
        "id": "_ZRCUo-8cA5D"
      },
      "source": [
        "def my_full_cvs(path, save_filename):\n",
        "  dataframes = []\n",
        "  os.chdir(path)\n",
        "  extension = 'csv'\n",
        "  all_filenames = [i for i in glob.glob('*.{}'.format(extension))]\n",
        "  for f in sorted(all_filenames):\n",
        "    df = pd.read_csv(f, low_memory=False)\n",
        "    year = re.search(r'\\d{4}', f)\n",
        "    if year:\n",
        "        df['year'] = year.group(0)\n",
        "        dataframes.append(df)\n",
        "  combined = pd.concat(dataframes, ignore_index=True)\n",
        "  combined.to_csv(save_filename, index=False)\n",
        "  os.chdir(\"/content\")"
      ],
      "execution_count": null,
      "outputs": []
    },
    {
      "cell_type": "code",
      "metadata": {
        "id": "sqsn2WaAuGfc"
      },
      "source": [
        "my_full_cvs(\"dvhb_data/train\", \"train_full.csv\")"
      ],
      "execution_count": null,
      "outputs": []
    },
    {
      "cell_type": "code",
      "metadata": {
        "id": "KjDGyZ07KkRU"
      },
      "source": [
        "df_train_full_new_names=['CODE_CULT', 'CODE_GROUP', 'CENTROID','YEAR']"
      ],
      "execution_count": null,
      "outputs": []
    },
    {
      "cell_type": "code",
      "metadata": {
        "id": "6-YKDiimK5YV"
      },
      "source": [
        "df_train_full = pd.read_csv(\"dvhb_data/train/train_full.csv\", names=df_train_full_new_names,skiprows=1)"
      ],
      "execution_count": null,
      "outputs": []
    },
    {
      "cell_type": "code",
      "metadata": {
        "colab": {
          "base_uri": "https://localhost:8080/",
          "height": 206
        },
        "id": "qnadAWZNW1we",
        "outputId": "3a1c98ee-f4cd-4303-cabb-ff68f01cab2e"
      },
      "source": [
        "df_train_full.head()"
      ],
      "execution_count": null,
      "outputs": [
        {
          "output_type": "execute_result",
          "data": {
            "text/html": [
              "<div>\n",
              "<style scoped>\n",
              "    .dataframe tbody tr th:only-of-type {\n",
              "        vertical-align: middle;\n",
              "    }\n",
              "\n",
              "    .dataframe tbody tr th {\n",
              "        vertical-align: top;\n",
              "    }\n",
              "\n",
              "    .dataframe thead th {\n",
              "        text-align: right;\n",
              "    }\n",
              "</style>\n",
              "<table border=\"1\" class=\"dataframe\">\n",
              "  <thead>\n",
              "    <tr style=\"text-align: right;\">\n",
              "      <th></th>\n",
              "      <th>CODE_CULT</th>\n",
              "      <th>CODE_GROUP</th>\n",
              "      <th>CENTROID</th>\n",
              "      <th>YEAR</th>\n",
              "    </tr>\n",
              "  </thead>\n",
              "  <tbody>\n",
              "    <tr>\n",
              "      <th>0</th>\n",
              "      <td>PPH</td>\n",
              "      <td>18</td>\n",
              "      <td>Point (907753.82834152 6554634.46488151)</td>\n",
              "      <td>2015</td>\n",
              "    </tr>\n",
              "    <tr>\n",
              "      <th>1</th>\n",
              "      <td>PPH</td>\n",
              "      <td>18</td>\n",
              "      <td>Point (906932.34642625 6550537.14396784)</td>\n",
              "      <td>2015</td>\n",
              "    </tr>\n",
              "    <tr>\n",
              "      <th>2</th>\n",
              "      <td>PPH</td>\n",
              "      <td>18</td>\n",
              "      <td>Point (906441.41841629 6551578.77930484)</td>\n",
              "      <td>2015</td>\n",
              "    </tr>\n",
              "    <tr>\n",
              "      <th>3</th>\n",
              "      <td>PPH</td>\n",
              "      <td>18</td>\n",
              "      <td>Point (906510.69053526 6551945.93452219)</td>\n",
              "      <td>2015</td>\n",
              "    </tr>\n",
              "    <tr>\n",
              "      <th>4</th>\n",
              "      <td>PPH</td>\n",
              "      <td>18</td>\n",
              "      <td>Point (906595.72670333 6550598.70621165)</td>\n",
              "      <td>2015</td>\n",
              "    </tr>\n",
              "  </tbody>\n",
              "</table>\n",
              "</div>"
            ],
            "text/plain": [
              "  CODE_CULT  CODE_GROUP                                  CENTROID  YEAR\n",
              "0       PPH          18  Point (907753.82834152 6554634.46488151)  2015\n",
              "1       PPH          18  Point (906932.34642625 6550537.14396784)  2015\n",
              "2       PPH          18  Point (906441.41841629 6551578.77930484)  2015\n",
              "3       PPH          18  Point (906510.69053526 6551945.93452219)  2015\n",
              "4       PPH          18  Point (906595.72670333 6550598.70621165)  2015"
            ]
          },
          "metadata": {
            "tags": []
          },
          "execution_count": 6
        }
      ]
    },
    {
      "cell_type": "markdown",
      "metadata": {
        "id": "3qDM9ud_riaO"
      },
      "source": [
        "**Делаем единый файл test_full_2019.csv (2015-2018) из папки test/test 2019 для тестовой выборки**"
      ]
    },
    {
      "cell_type": "code",
      "metadata": {
        "id": "oqbJpQstksBh"
      },
      "source": [
        "my_full_cvs(\"dvhb_data/test/test 2019/\", \"test_full_2019.csv\")"
      ],
      "execution_count": null,
      "outputs": []
    },
    {
      "cell_type": "code",
      "metadata": {
        "id": "5trGQXwCMItv"
      },
      "source": [
        "df_test_full_2019_new_names=['CODE_CULT', 'CODE_GROUP', 'CENTROID','YEAR']"
      ],
      "execution_count": null,
      "outputs": []
    },
    {
      "cell_type": "code",
      "metadata": {
        "id": "IukoXTHIs3Y2"
      },
      "source": [
        "df_test_full_2019 = pd.read_csv(\"dvhb_data/test/test 2019/test_full_2019.csv\", names=df_test_full_2019_new_names,skiprows=1)"
      ],
      "execution_count": null,
      "outputs": []
    },
    {
      "cell_type": "code",
      "metadata": {
        "colab": {
          "base_uri": "https://localhost:8080/",
          "height": 81
        },
        "id": "Cbt1A9gLL9gb",
        "outputId": "3d849477-e863-4eba-cf57-80bc45011e8d"
      },
      "source": [
        "df_test_full_2019.head(1)"
      ],
      "execution_count": null,
      "outputs": [
        {
          "output_type": "execute_result",
          "data": {
            "text/html": [
              "<div>\n",
              "<style scoped>\n",
              "    .dataframe tbody tr th:only-of-type {\n",
              "        vertical-align: middle;\n",
              "    }\n",
              "\n",
              "    .dataframe tbody tr th {\n",
              "        vertical-align: top;\n",
              "    }\n",
              "\n",
              "    .dataframe thead th {\n",
              "        text-align: right;\n",
              "    }\n",
              "</style>\n",
              "<table border=\"1\" class=\"dataframe\">\n",
              "  <thead>\n",
              "    <tr style=\"text-align: right;\">\n",
              "      <th></th>\n",
              "      <th>CODE_CULT</th>\n",
              "      <th>CODE_GROUP</th>\n",
              "      <th>CENTROID</th>\n",
              "      <th>YEAR</th>\n",
              "    </tr>\n",
              "  </thead>\n",
              "  <tbody>\n",
              "    <tr>\n",
              "      <th>0</th>\n",
              "      <td>PPH</td>\n",
              "      <td>18</td>\n",
              "      <td>Point (882657.94895066 6569342.10998129)</td>\n",
              "      <td>2015</td>\n",
              "    </tr>\n",
              "  </tbody>\n",
              "</table>\n",
              "</div>"
            ],
            "text/plain": [
              "  CODE_CULT  CODE_GROUP                                  CENTROID  YEAR\n",
              "0       PPH          18  Point (882657.94895066 6569342.10998129)  2015"
            ]
          },
          "metadata": {
            "tags": []
          },
          "execution_count": 60
        }
      ]
    },
    {
      "cell_type": "markdown",
      "metadata": {
        "id": "cDzlhzBEw03v"
      },
      "source": [
        "**Делаем единый файл test_full_2020.csv (2015-2019) из папки test/test 2020 для тестовой выборки**"
      ]
    },
    {
      "cell_type": "code",
      "metadata": {
        "id": "W03JdvtytJ68"
      },
      "source": [
        "my_full_cvs(\"dvhb_data/test/test 2020/\", \"test_full_2020.csv\")"
      ],
      "execution_count": null,
      "outputs": []
    },
    {
      "cell_type": "code",
      "metadata": {
        "id": "36eE0D32MYH5"
      },
      "source": [
        "df_test_full_2020_new_names=['CODE_CULT', 'CODE_GROUP', 'CENTROID','YEAR']"
      ],
      "execution_count": null,
      "outputs": []
    },
    {
      "cell_type": "code",
      "metadata": {
        "id": "uUE0_3VgtMXn"
      },
      "source": [
        "df_test_full_2020 = pd.read_csv(\"dvhb_data/test/test 2020/test_full_2020.csv\",names=df_test_full_2020_new_names,skiprows=1)"
      ],
      "execution_count": null,
      "outputs": []
    },
    {
      "cell_type": "code",
      "metadata": {
        "id": "S1HNq45uyMVP",
        "colab": {
          "base_uri": "https://localhost:8080/",
          "height": 81
        },
        "outputId": "4635ab43-c43c-4894-e7ca-3f45673116ae"
      },
      "source": [
        "df_test_full_2020.head(1)"
      ],
      "execution_count": null,
      "outputs": [
        {
          "output_type": "execute_result",
          "data": {
            "text/html": [
              "<div>\n",
              "<style scoped>\n",
              "    .dataframe tbody tr th:only-of-type {\n",
              "        vertical-align: middle;\n",
              "    }\n",
              "\n",
              "    .dataframe tbody tr th {\n",
              "        vertical-align: top;\n",
              "    }\n",
              "\n",
              "    .dataframe thead th {\n",
              "        text-align: right;\n",
              "    }\n",
              "</style>\n",
              "<table border=\"1\" class=\"dataframe\">\n",
              "  <thead>\n",
              "    <tr style=\"text-align: right;\">\n",
              "      <th></th>\n",
              "      <th>CODE_CULT</th>\n",
              "      <th>CODE_GROUP</th>\n",
              "      <th>CENTROID</th>\n",
              "      <th>YEAR</th>\n",
              "    </tr>\n",
              "  </thead>\n",
              "  <tbody>\n",
              "    <tr>\n",
              "      <th>0</th>\n",
              "      <td>FAG</td>\n",
              "      <td>16</td>\n",
              "      <td>Point (645709.52436221 7099158.66801243)</td>\n",
              "      <td>2015</td>\n",
              "    </tr>\n",
              "  </tbody>\n",
              "</table>\n",
              "</div>"
            ],
            "text/plain": [
              "  CODE_CULT  CODE_GROUP                                  CENTROID  YEAR\n",
              "0       FAG          16  Point (645709.52436221 7099158.66801243)  2015"
            ]
          },
          "metadata": {
            "tags": []
          },
          "execution_count": 66
        }
      ]
    },
    {
      "cell_type": "markdown",
      "metadata": {
        "id": "EDM85xeskoWp"
      },
      "source": [
        "**Добавляем в датасет df_train_full столбцы наименование культур и групп, а так же их перевод (всего 4 столбца LIBELLE_CULT, LIBELLE_CULT_RUS, GROUP_CULT, GROUP_CULT_RUS )**"
      ]
    },
    {
      "cell_type": "code",
      "metadata": {
        "id": "jBdR3PCZVkT2"
      },
      "source": [
        "df_class_cult = pd.read_csv(\"dvhb_data/class_cult_translate.csv\",sep=',')"
      ],
      "execution_count": null,
      "outputs": []
    },
    {
      "cell_type": "code",
      "metadata": {
        "id": "LPqvYoQzzqCI"
      },
      "source": [
        "df_class_cult = df_class_cult.drop(['CODE_GROUP'], axis=1)"
      ],
      "execution_count": null,
      "outputs": []
    },
    {
      "cell_type": "code",
      "metadata": {
        "id": "IsNmFVI2mGzh"
      },
      "source": [
        "df_train_full = pd.merge(df_train_full, df_class_cult, left_on='CODE_CULT', right_on='CODE_CULT')"
      ],
      "execution_count": null,
      "outputs": []
    },
    {
      "cell_type": "code",
      "metadata": {
        "colab": {
          "base_uri": "https://localhost:8080/",
          "height": 144
        },
        "id": "W5iYI2Phs58o",
        "outputId": "43d3af69-6263-4843-a0d7-9d146b4b6999"
      },
      "source": [
        "df_train_full.head(3)"
      ],
      "execution_count": null,
      "outputs": [
        {
          "output_type": "execute_result",
          "data": {
            "text/html": [
              "<div>\n",
              "<style scoped>\n",
              "    .dataframe tbody tr th:only-of-type {\n",
              "        vertical-align: middle;\n",
              "    }\n",
              "\n",
              "    .dataframe tbody tr th {\n",
              "        vertical-align: top;\n",
              "    }\n",
              "\n",
              "    .dataframe thead th {\n",
              "        text-align: right;\n",
              "    }\n",
              "</style>\n",
              "<table border=\"1\" class=\"dataframe\">\n",
              "  <thead>\n",
              "    <tr style=\"text-align: right;\">\n",
              "      <th></th>\n",
              "      <th>CODE_CULT</th>\n",
              "      <th>CODE_GROUP</th>\n",
              "      <th>CENTROID</th>\n",
              "      <th>YEAR</th>\n",
              "      <th>LIBELLE_CULT</th>\n",
              "      <th>LIBELLE_CULT_RUS</th>\n",
              "      <th>GROUP_CULT</th>\n",
              "      <th>GROUP_CULT_RUS</th>\n",
              "      <th>NOTES</th>\n",
              "    </tr>\n",
              "  </thead>\n",
              "  <tbody>\n",
              "    <tr>\n",
              "      <th>0</th>\n",
              "      <td>PPH</td>\n",
              "      <td>18</td>\n",
              "      <td>Point (907753.82834152 6554634.46488151)</td>\n",
              "      <td>2015</td>\n",
              "      <td>Prairie permanente - herbe prédominante (resso...</td>\n",
              "      <td>Постоянные пастбища - преимущественно трава (д...</td>\n",
              "      <td>Prairies permanentes</td>\n",
              "      <td>Постоянные луга</td>\n",
              "      <td>NaN</td>\n",
              "    </tr>\n",
              "    <tr>\n",
              "      <th>1</th>\n",
              "      <td>PPH</td>\n",
              "      <td>18</td>\n",
              "      <td>Point (906932.34642625 6550537.14396784)</td>\n",
              "      <td>2015</td>\n",
              "      <td>Prairie permanente - herbe prédominante (resso...</td>\n",
              "      <td>Постоянные пастбища - преимущественно трава (д...</td>\n",
              "      <td>Prairies permanentes</td>\n",
              "      <td>Постоянные луга</td>\n",
              "      <td>NaN</td>\n",
              "    </tr>\n",
              "    <tr>\n",
              "      <th>2</th>\n",
              "      <td>PPH</td>\n",
              "      <td>18</td>\n",
              "      <td>Point (906441.41841629 6551578.77930484)</td>\n",
              "      <td>2015</td>\n",
              "      <td>Prairie permanente - herbe prédominante (resso...</td>\n",
              "      <td>Постоянные пастбища - преимущественно трава (д...</td>\n",
              "      <td>Prairies permanentes</td>\n",
              "      <td>Постоянные луга</td>\n",
              "      <td>NaN</td>\n",
              "    </tr>\n",
              "  </tbody>\n",
              "</table>\n",
              "</div>"
            ],
            "text/plain": [
              "  CODE_CULT  CODE_GROUP  ...   GROUP_CULT_RUS  NOTES\n",
              "0       PPH          18  ...  Постоянные луга    NaN\n",
              "1       PPH          18  ...  Постоянные луга    NaN\n",
              "2       PPH          18  ...  Постоянные луга    NaN\n",
              "\n",
              "[3 rows x 9 columns]"
            ]
          },
          "metadata": {
            "tags": []
          },
          "execution_count": 14
        }
      ]
    },
    {
      "cell_type": "markdown",
      "metadata": {
        "id": "mtH1_mTMQhxs"
      },
      "source": [
        ""
      ]
    },
    {
      "cell_type": "code",
      "metadata": {
        "id": "h1acn275RXqd"
      },
      "source": [
        "test = pd.read_csv(\"dvhb_data/raw_data/2010.csv\")"
      ],
      "execution_count": null,
      "outputs": []
    },
    {
      "cell_type": "code",
      "metadata": {
        "id": "cXHiKEkmRktz"
      },
      "source": [
        "df_train_cult_full = pd.read_csv(\"dvhb_data/raw_data/train_cult_full.csv\", names=df_train_cult_full_new_names, skiprows=1)"
      ],
      "execution_count": null,
      "outputs": []
    },
    {
      "cell_type": "code",
      "metadata": {
        "colab": {
          "base_uri": "https://localhost:8080/",
          "height": 424
        },
        "id": "rdeXFjOsRfyJ",
        "outputId": "d16c8ad4-3699-4282-f489-dda2c48e7755"
      },
      "source": [
        "test"
      ],
      "execution_count": null,
      "outputs": [
        {
          "output_type": "execute_result",
          "data": {
            "text/html": [
              "<div>\n",
              "<style scoped>\n",
              "    .dataframe tbody tr th:only-of-type {\n",
              "        vertical-align: middle;\n",
              "    }\n",
              "\n",
              "    .dataframe tbody tr th {\n",
              "        vertical-align: top;\n",
              "    }\n",
              "\n",
              "    .dataframe thead th {\n",
              "        text-align: right;\n",
              "    }\n",
              "</style>\n",
              "<table border=\"1\" class=\"dataframe\">\n",
              "  <thead>\n",
              "    <tr style=\"text-align: right;\">\n",
              "      <th></th>\n",
              "      <th>CULT_MAJ</th>\n",
              "      <th>NUM_ILOT</th>\n",
              "      <th>centroid</th>\n",
              "    </tr>\n",
              "  </thead>\n",
              "  <tbody>\n",
              "    <tr>\n",
              "      <th>0</th>\n",
              "      <td>23</td>\n",
              "      <td>006-600</td>\n",
              "      <td>POINT (1036321.777965606 6313793.803955953)</td>\n",
              "    </tr>\n",
              "    <tr>\n",
              "      <th>1</th>\n",
              "      <td>23</td>\n",
              "      <td>006-601</td>\n",
              "      <td>POINT (1062367.545310645 6321180.197514395)</td>\n",
              "    </tr>\n",
              "    <tr>\n",
              "      <th>2</th>\n",
              "      <td>23</td>\n",
              "      <td>006-602</td>\n",
              "      <td>POINT (1062424.026822849 6321197.461531096)</td>\n",
              "    </tr>\n",
              "    <tr>\n",
              "      <th>3</th>\n",
              "      <td>23</td>\n",
              "      <td>006-603</td>\n",
              "      <td>POINT (1052736.825328681 6313753.632340802)</td>\n",
              "    </tr>\n",
              "    <tr>\n",
              "      <th>4</th>\n",
              "      <td>23</td>\n",
              "      <td>006-604</td>\n",
              "      <td>POINT (1052659.154533222 6313747.855598602)</td>\n",
              "    </tr>\n",
              "    <tr>\n",
              "      <th>...</th>\n",
              "      <td>...</td>\n",
              "      <td>...</td>\n",
              "      <td>...</td>\n",
              "    </tr>\n",
              "    <tr>\n",
              "      <th>6123254</th>\n",
              "      <td>5</td>\n",
              "      <td>086-93794</td>\n",
              "      <td>POINT (519070.2904554354 6607941.158185185)</td>\n",
              "    </tr>\n",
              "    <tr>\n",
              "      <th>6123255</th>\n",
              "      <td>13</td>\n",
              "      <td>086-93795</td>\n",
              "      <td>POINT (521486.2052879647 6607842.57304298)</td>\n",
              "    </tr>\n",
              "    <tr>\n",
              "      <th>6123256</th>\n",
              "      <td>1</td>\n",
              "      <td>086-93796</td>\n",
              "      <td>POINT (524495.4002941921 6603589.442552738)</td>\n",
              "    </tr>\n",
              "    <tr>\n",
              "      <th>6123257</th>\n",
              "      <td>5</td>\n",
              "      <td>086-93797</td>\n",
              "      <td>POINT (520665.7147127037 6608823.842154902)</td>\n",
              "    </tr>\n",
              "    <tr>\n",
              "      <th>6123258</th>\n",
              "      <td>6</td>\n",
              "      <td>086-93798</td>\n",
              "      <td>POINT (521834.4260668928 6608352.93486751)</td>\n",
              "    </tr>\n",
              "  </tbody>\n",
              "</table>\n",
              "<p>6123259 rows × 3 columns</p>\n",
              "</div>"
            ],
            "text/plain": [
              "         CULT_MAJ   NUM_ILOT                                     centroid\n",
              "0              23    006-600  POINT (1036321.777965606 6313793.803955953)\n",
              "1              23    006-601  POINT (1062367.545310645 6321180.197514395)\n",
              "2              23    006-602  POINT (1062424.026822849 6321197.461531096)\n",
              "3              23    006-603  POINT (1052736.825328681 6313753.632340802)\n",
              "4              23    006-604  POINT (1052659.154533222 6313747.855598602)\n",
              "...           ...        ...                                          ...\n",
              "6123254         5  086-93794  POINT (519070.2904554354 6607941.158185185)\n",
              "6123255        13  086-93795   POINT (521486.2052879647 6607842.57304298)\n",
              "6123256         1  086-93796  POINT (524495.4002941921 6603589.442552738)\n",
              "6123257         5  086-93797  POINT (520665.7147127037 6608823.842154902)\n",
              "6123258         6  086-93798   POINT (521834.4260668928 6608352.93486751)\n",
              "\n",
              "[6123259 rows x 3 columns]"
            ]
          },
          "metadata": {
            "tags": []
          },
          "execution_count": 16
        }
      ]
    },
    {
      "cell_type": "code",
      "metadata": {
        "colab": {
          "base_uri": "https://localhost:8080/"
        },
        "id": "V0sImf89QWGc",
        "outputId": "5979dc0b-0966-4794-8e4c-0d2f365f252c"
      },
      "source": [
        "my_full_cvs(\"dvhb_data/raw_data\", \"train_cult_full.csv\")"
      ],
      "execution_count": null,
      "outputs": [
        {
          "output_type": "stream",
          "text": [
            "/usr/local/lib/python3.7/dist-packages/IPython/core/interactiveshell.py:2828: DtypeWarning: Columns (0,1,2,6,7,8) have mixed types.Specify dtype option on import or set low_memory=False.\n",
            "  if self.run_code(code, result):\n"
          ],
          "name": "stderr"
        }
      ]
    },
    {
      "cell_type": "code",
      "metadata": {
        "id": "g9qj5cZ5QXMV"
      },
      "source": [
        "df_train_cult_full_new_names=['CODE_GROUP', 'CENTROID','YEAR']"
      ],
      "execution_count": null,
      "outputs": []
    },
    {
      "cell_type": "code",
      "metadata": {
        "id": "9f2o1hVmQYOA"
      },
      "source": [
        "df_train_cult_full = pd.read_csv(\"dvhb_data/raw_data/train_cult_full.csv\")"
      ],
      "execution_count": null,
      "outputs": []
    },
    {
      "cell_type": "code",
      "metadata": {
        "id": "BpqmD-OPQZPA"
      },
      "source": [
        "df_train_cult_full.head()"
      ],
      "execution_count": null,
      "outputs": []
    },
    {
      "cell_type": "markdown",
      "metadata": {
        "id": "35aV2WIEM3Gd"
      },
      "source": [
        "# Светлана"
      ]
    },
    {
      "cell_type": "code",
      "metadata": {
        "id": "AzmRLGBnBWEi"
      },
      "source": [
        "import gensim\n",
        "from gensim import corpora\n",
        "from pprint import pprint\n",
        "\n",
        "# делаю маленький датасет\n",
        "\n",
        "size = 18074\n",
        "com1 = df_train_full.sample(size).copy()\n",
        "\n",
        "# удаляю лишнее из координат\n",
        "def stri(ee):\n",
        "  result  = re.sub(r'[^0-9. ]+','', ee) # заменяю \n",
        "  return result\n",
        "\n",
        "com1['centroid_n'] = com1['CENTROID'].apply(stri)\n",
        "\n",
        "# кодирую слова векторами\n",
        "text = [com1['CODE_CULT'].tolist()]\n",
        "dictionary = corpora.Dictionary(text)\n",
        "\n",
        "#заменяем значения в столбце object_name_n на данные из словаря, а ключи берем из столбца object_type_number\n",
        "com1['CODE_CULTU_COD'] = com1['CODE_CULT'].map(dictionary.token2id)\n",
        "\n",
        "# режем по пробелу\n",
        "street = com1['centroid_n'].str.split(' ',expand=True)\n",
        "com1 = com1.join(street)\n",
        "\n",
        "com1 = com1[['CODE_CULTU_COD','CODE_GROUP','YEAR',1,2]]"
      ],
      "execution_count": null,
      "outputs": []
    },
    {
      "cell_type": "code",
      "metadata": {
        "id": "eJuHiOyyBbWs"
      },
      "source": [
        "import matplotlib.pyplot as plt \n",
        "from sklearn.cluster import KMeans\n",
        "from scipy.cluster.hierarchy import dendrogram, linkage \n",
        "import seaborn as sns\n",
        "y = com1['CODE_CULTU_COD']\n",
        "X = com1.drop(['CODE_CULTU_COD'], axis=1)\n",
        "\n",
        "# долго считает дендрограмму\n",
        "#linked = linkage(X, method = 'ward') \n",
        "#plt.figure(figsize=(15, 10))  \n",
        "#dendrogram(linked, orientation='top')\n",
        "#plt.show() "
      ],
      "execution_count": null,
      "outputs": []
    },
    {
      "cell_type": "code",
      "metadata": {
        "id": "P_5xW8XhBeAl",
        "colab": {
          "base_uri": "https://localhost:8080/",
          "height": 206
        },
        "outputId": "39c3ea57-55f7-42e6-a93a-300cecee609f"
      },
      "source": [
        "# думала или на 22 кластера или на  6 -надо посмтреть качество разбиения\n",
        "n_clusters = 22\n",
        "km = KMeans(n_clusters = n_clusters) # задаём число кластеров, равное 22\n",
        "labels1 = km.fit_predict(X[[1,2]]) # применяем алгоритм к данным и формируем вектор кластеров \n",
        "\n",
        "n_clusters = 6\n",
        "km = KMeans(n_clusters = n_clusters) # задаём число кластеров, равное 6\n",
        "labels2 = km.fit_predict(X[[1,2]])\n",
        "\n",
        "com1['cluster_km1'] = labels1\n",
        "com1['cluster_km2'] = labels2\n",
        "\n",
        "com1.head(5)"
      ],
      "execution_count": null,
      "outputs": [
        {
          "output_type": "execute_result",
          "data": {
            "text/html": [
              "<div>\n",
              "<style scoped>\n",
              "    .dataframe tbody tr th:only-of-type {\n",
              "        vertical-align: middle;\n",
              "    }\n",
              "\n",
              "    .dataframe tbody tr th {\n",
              "        vertical-align: top;\n",
              "    }\n",
              "\n",
              "    .dataframe thead th {\n",
              "        text-align: right;\n",
              "    }\n",
              "</style>\n",
              "<table border=\"1\" class=\"dataframe\">\n",
              "  <thead>\n",
              "    <tr style=\"text-align: right;\">\n",
              "      <th></th>\n",
              "      <th>CODE_CULTU_COD</th>\n",
              "      <th>CODE_GROUP</th>\n",
              "      <th>YEAR</th>\n",
              "      <th>1</th>\n",
              "      <th>2</th>\n",
              "      <th>cluster_km1</th>\n",
              "      <th>cluster_km2</th>\n",
              "    </tr>\n",
              "  </thead>\n",
              "  <tbody>\n",
              "    <tr>\n",
              "      <th>5189742</th>\n",
              "      <td>110</td>\n",
              "      <td>18</td>\n",
              "      <td>2019</td>\n",
              "      <td>627542.77452513</td>\n",
              "      <td>6519771.28023007</td>\n",
              "      <td>16</td>\n",
              "      <td>1</td>\n",
              "    </tr>\n",
              "    <tr>\n",
              "      <th>7517222</th>\n",
              "      <td>12</td>\n",
              "      <td>1</td>\n",
              "      <td>2017</td>\n",
              "      <td>1007138.26384073</td>\n",
              "      <td>6865216.09067153</td>\n",
              "      <td>5</td>\n",
              "      <td>0</td>\n",
              "    </tr>\n",
              "    <tr>\n",
              "      <th>4230865</th>\n",
              "      <td>110</td>\n",
              "      <td>18</td>\n",
              "      <td>2018</td>\n",
              "      <td>705051.28071358</td>\n",
              "      <td>6539174.20386762</td>\n",
              "      <td>16</td>\n",
              "      <td>2</td>\n",
              "    </tr>\n",
              "    <tr>\n",
              "      <th>9144416</th>\n",
              "      <td>119</td>\n",
              "      <td>19</td>\n",
              "      <td>2017</td>\n",
              "      <td>570937.33240652</td>\n",
              "      <td>6487924.39134572</td>\n",
              "      <td>2</td>\n",
              "      <td>1</td>\n",
              "    </tr>\n",
              "    <tr>\n",
              "      <th>14468205</th>\n",
              "      <td>149</td>\n",
              "      <td>6</td>\n",
              "      <td>2017</td>\n",
              "      <td>636994.25672198</td>\n",
              "      <td>6241771.05391248</td>\n",
              "      <td>13</td>\n",
              "      <td>4</td>\n",
              "    </tr>\n",
              "  </tbody>\n",
              "</table>\n",
              "</div>"
            ],
            "text/plain": [
              "          CODE_CULTU_COD  CODE_GROUP  ...  cluster_km1 cluster_km2\n",
              "5189742              110          18  ...           16           1\n",
              "7517222               12           1  ...            5           0\n",
              "4230865              110          18  ...           16           2\n",
              "9144416              119          19  ...            2           1\n",
              "14468205             149           6  ...           13           4\n",
              "\n",
              "[5 rows x 7 columns]"
            ]
          },
          "metadata": {
            "tags": []
          },
          "execution_count": 73
        }
      ]
    },
    {
      "cell_type": "code",
      "metadata": {
        "id": "LcfkI5x0BiRj",
        "colab": {
          "base_uri": "https://localhost:8080/",
          "height": 497
        },
        "outputId": "5a047a2a-926a-4dcf-e8e6-52f501c86827"
      },
      "source": [
        "# возьмем данные для более общих областей\n",
        "data = com1.pivot_table(index = ['cluster_km2','CODE_GROUP'], columns = ['YEAR'], values = 'CODE_CULTU_COD', aggfunc = 'mean')\n",
        "\n",
        "fig, ax = plt.subplots(figsize=(8,8))\n",
        "sns_heatmap = sns.heatmap(data.isnull(), yticklabels=False, cbar=False, cmap='viridis')"
      ],
      "execution_count": null,
      "outputs": [
        {
          "output_type": "display_data",
          "data": {
            "image/png": "[encoded data removed]",
            "text/plain": [
              "<Figure size 576x576 with 1 Axes>"
            ]
          },
          "metadata": {
            "tags": [],
            "needs_background": "light"
          }
        }
      ]
    },
    {
      "cell_type": "code",
      "metadata": {
        "id": "SjywDqZZBkt_",
        "colab": {
          "base_uri": "https://localhost:8080/",
          "height": 1000
        },
        "outputId": "5d1698f5-beca-444f-a622-5fad14f59777"
      },
      "source": [
        "# возьмем данные для  мелких областей\n",
        "data = com1.pivot_table(index = ['cluster_km1','CODE_CULTU_COD'], columns = ['YEAR'], values = 'CODE_GROUP', aggfunc = 'mean').\\\n",
        "        sort_values(by = [2015,2016,2017,2018,2019])\n",
        "\n",
        "fig, ax = plt.subplots(figsize=(12,20))\n",
        "sns_heatmap = sns.heatmap(data.isnull(), yticklabels=False, cbar=False, cmap='viridis')"
      ],
      "execution_count": null,
      "outputs": [
        {
          "output_type": "display_data",
          "data": {
            "image/png": "[encoded data removed]",
            "text/plain": [
              "<Figure size 864x1440 with 1 Axes>"
            ]
          },
          "metadata": {
            "tags": [],
            "needs_background": "light"
          }
        }
      ]
    },
    {
      "cell_type": "markdown",
      "metadata": {
        "id": "J5C0qaODBYQU"
      },
      "source": [
        "#Павел"
      ]
    },
    {
      "cell_type": "code",
      "metadata": {
        "colab": {
          "base_uri": "https://localhost:8080/",
          "height": 293
        },
        "id": "-aHHUNk-kCNj",
        "outputId": "98df83e2-6266-4f45-d109-288f8f3033c8"
      },
      "source": [
        "df_train_full[df_train_full['CENTROID'] == 'Point (1000001.31785654 6472025.93934252)']"
      ],
      "execution_count": null,
      "outputs": [
        {
          "output_type": "execute_result",
          "data": {
            "text/html": [
              "<div>\n",
              "<style scoped>\n",
              "    .dataframe tbody tr th:only-of-type {\n",
              "        vertical-align: middle;\n",
              "    }\n",
              "\n",
              "    .dataframe tbody tr th {\n",
              "        vertical-align: top;\n",
              "    }\n",
              "\n",
              "    .dataframe thead th {\n",
              "        text-align: right;\n",
              "    }\n",
              "</style>\n",
              "<table border=\"1\" class=\"dataframe\">\n",
              "  <thead>\n",
              "    <tr style=\"text-align: right;\">\n",
              "      <th></th>\n",
              "      <th>CODE_CULT</th>\n",
              "      <th>CODE_GROUP</th>\n",
              "      <th>CENTROID</th>\n",
              "      <th>YEAR</th>\n",
              "      <th>LIBELLE_CULT</th>\n",
              "      <th>LIBELLE_CULT_RUS</th>\n",
              "      <th>GROUP_CULT</th>\n",
              "      <th>GROUP_CULT_RUS</th>\n",
              "      <th>NOTES</th>\n",
              "    </tr>\n",
              "  </thead>\n",
              "  <tbody>\n",
              "    <tr>\n",
              "      <th>9304783</th>\n",
              "      <td>PTR</td>\n",
              "      <td>19</td>\n",
              "      <td>Point (1000001.31785654 6472025.93934252)</td>\n",
              "      <td>2018</td>\n",
              "      <td>Autre prairie temporaire de 5 ans ou moins</td>\n",
              "      <td>Прочие временные пастбища 5 лет или меньше</td>\n",
              "      <td>Prairies temporaires</td>\n",
              "      <td>Постоянные луга</td>\n",
              "      <td>NaN</td>\n",
              "    </tr>\n",
              "    <tr>\n",
              "      <th>9514094</th>\n",
              "      <td>PTR</td>\n",
              "      <td>19</td>\n",
              "      <td>Point (1000001.31785654 6472025.93934252)</td>\n",
              "      <td>2019</td>\n",
              "      <td>Autre prairie temporaire de 5 ans ou moins</td>\n",
              "      <td>Прочие временные пастбища 5 лет или меньше</td>\n",
              "      <td>Prairies temporaires</td>\n",
              "      <td>Постоянные луга</td>\n",
              "      <td>NaN</td>\n",
              "    </tr>\n",
              "    <tr>\n",
              "      <th>15543944</th>\n",
              "      <td>MH5</td>\n",
              "      <td>16</td>\n",
              "      <td>Point (1000001.31785654 6472025.93934252)</td>\n",
              "      <td>2015</td>\n",
              "      <td>Mélange de légumineuses fourragères prépondéra...</td>\n",
              "      <td>Смесь преимущественно кормовых зернобобовых ку...</td>\n",
              "      <td>Fourrage</td>\n",
              "      <td>Фураж</td>\n",
              "      <td>NaN</td>\n",
              "    </tr>\n",
              "    <tr>\n",
              "      <th>15551069</th>\n",
              "      <td>MH5</td>\n",
              "      <td>16</td>\n",
              "      <td>Point (1000001.31785654 6472025.93934252)</td>\n",
              "      <td>2016</td>\n",
              "      <td>Mélange de légumineuses fourragères prépondéra...</td>\n",
              "      <td>Смесь преимущественно кормовых зернобобовых ку...</td>\n",
              "      <td>Fourrage</td>\n",
              "      <td>Фураж</td>\n",
              "      <td>NaN</td>\n",
              "    </tr>\n",
              "    <tr>\n",
              "      <th>17938699</th>\n",
              "      <td>MH6</td>\n",
              "      <td>16</td>\n",
              "      <td>Point (1000001.31785654 6472025.93934252)</td>\n",
              "      <td>2017</td>\n",
              "      <td>Mélange de légumineuses fourragères prépondéra...</td>\n",
              "      <td>Смесь преимущественно кормовых зернобобовых ку...</td>\n",
              "      <td>Fourrage</td>\n",
              "      <td>Фураж</td>\n",
              "      <td>NaN</td>\n",
              "    </tr>\n",
              "  </tbody>\n",
              "</table>\n",
              "</div>"
            ],
            "text/plain": [
              "         CODE_CULT  CODE_GROUP  ...   GROUP_CULT_RUS  NOTES\n",
              "9304783        PTR          19  ...  Постоянные луга    NaN\n",
              "9514094        PTR          19  ...  Постоянные луга    NaN\n",
              "15543944       MH5          16  ...            Фураж    NaN\n",
              "15551069       MH5          16  ...            Фураж    NaN\n",
              "17938699       MH6          16  ...            Фураж    NaN\n",
              "\n",
              "[5 rows x 9 columns]"
            ]
          },
          "metadata": {
            "tags": []
          },
          "execution_count": 12
        }
      ]
    },
    {
      "cell_type": "code",
      "metadata": {
        "id": "DezCQNTATEBK"
      },
      "source": [
        "def get_coords(coords: str) -> Tuple[Optional[float], Optional[float]]:\n",
        "    '''\n",
        "    Разбирает строковое представление координат\n",
        "\n",
        "    :param coords: сроковое представление координат\n",
        "    :return tuple кортеж из полученных координат\n",
        "    '''\n",
        "    regex = re.search('(?P<lang>\\d+\\.?\\d*)\\s(?P<long>\\d+\\.?\\d*)', coords)\n",
        "    return regex.group('lang'), regex.group('long')"
      ],
      "execution_count": null,
      "outputs": []
    },
    {
      "cell_type": "code",
      "metadata": {
        "id": "xCwP2VUGJhGN"
      },
      "source": [
        "df_train_grouped_full = df_train_full.groupby('CENTROID', dropna=False).agg(list)"
      ],
      "execution_count": null,
      "outputs": []
    },
    {
      "cell_type": "code",
      "metadata": {
        "colab": {
          "base_uri": "https://localhost:8080/",
          "height": 225
        },
        "id": "-rRbQUnwT6iJ",
        "outputId": "857ad566-08f8-4c31-98d1-6447c2446ca3"
      },
      "source": [
        "df_train_grouped_full.head()"
      ],
      "execution_count": null,
      "outputs": [
        {
          "output_type": "execute_result",
          "data": {
            "text/html": [
              "<div>\n",
              "<style scoped>\n",
              "    .dataframe tbody tr th:only-of-type {\n",
              "        vertical-align: middle;\n",
              "    }\n",
              "\n",
              "    .dataframe tbody tr th {\n",
              "        vertical-align: top;\n",
              "    }\n",
              "\n",
              "    .dataframe thead th {\n",
              "        text-align: right;\n",
              "    }\n",
              "</style>\n",
              "<table border=\"1\" class=\"dataframe\">\n",
              "  <thead>\n",
              "    <tr style=\"text-align: right;\">\n",
              "      <th></th>\n",
              "      <th>CODE_CULTU</th>\n",
              "      <th>CODE_GROUP</th>\n",
              "      <th>year</th>\n",
              "      <th>GROUPE_CULTURE</th>\n",
              "      <th>LIBELLE_CULTURE</th>\n",
              "    </tr>\n",
              "    <tr>\n",
              "      <th>centroid</th>\n",
              "      <th></th>\n",
              "      <th></th>\n",
              "      <th></th>\n",
              "      <th></th>\n",
              "      <th></th>\n",
              "    </tr>\n",
              "  </thead>\n",
              "  <tbody>\n",
              "    <tr>\n",
              "      <th>Point (1000000.08652894 6510087.46241743)</th>\n",
              "      <td>[PPH, PPH, PPH, PPH, PPH]</td>\n",
              "      <td>[18, 18, 18, 18, 18]</td>\n",
              "      <td>[2015, 2016, 2017, 2018, 2019]</td>\n",
              "      <td>[Prairie permanente - herbe prédominante (ress...</td>\n",
              "      <td>[Prairies permanentes, Prairies permanentes, P...</td>\n",
              "    </tr>\n",
              "    <tr>\n",
              "      <th>Point (1000000.63976388 6471730.5886227)</th>\n",
              "      <td>[PPH, PPH, PPH, PPH, PPH]</td>\n",
              "      <td>[18, 18, 18, 18, 18]</td>\n",
              "      <td>[2015, 2016, 2017, 2018, 2019]</td>\n",
              "      <td>[Prairie permanente - herbe prédominante (ress...</td>\n",
              "      <td>[Prairies permanentes, Prairies permanentes, P...</td>\n",
              "    </tr>\n",
              "    <tr>\n",
              "      <th>Point (1000000.99403502 6373722.56080617)</th>\n",
              "      <td>[PPH, PPH, PPH, PPH, SPL]</td>\n",
              "      <td>[18, 18, 18, 18, 17]</td>\n",
              "      <td>[2016, 2017, 2018, 2019, 2015]</td>\n",
              "      <td>[Prairie permanente - herbe prédominante (ress...</td>\n",
              "      <td>[Prairies permanentes, Prairies permanentes, P...</td>\n",
              "    </tr>\n",
              "    <tr>\n",
              "      <th>Point (1000001.31785654 6472025.93934252)</th>\n",
              "      <td>[PTR, PTR, MH5, MH5, MH6]</td>\n",
              "      <td>[19, 19, 16, 16, 16]</td>\n",
              "      <td>[2018, 2019, 2015, 2016, 2017]</td>\n",
              "      <td>[Autre prairie temporaire de 5 ans ou moins, A...</td>\n",
              "      <td>[Prairies temporaires, Prairies temporaires, F...</td>\n",
              "    </tr>\n",
              "    <tr>\n",
              "      <th>Point (1000002.51285272 6894831.40789418)</th>\n",
              "      <td>[PPH, PPH, PPH, PPH, PPH]</td>\n",
              "      <td>[18, 18, 18, 18, 18]</td>\n",
              "      <td>[2015, 2016, 2017, 2018, 2019]</td>\n",
              "      <td>[Prairie permanente - herbe prédominante (ress...</td>\n",
              "      <td>[Prairies permanentes, Prairies permanentes, P...</td>\n",
              "    </tr>\n",
              "  </tbody>\n",
              "</table>\n",
              "</div>"
            ],
            "text/plain": [
              "                                                          CODE_CULTU  ...                                    LIBELLE_CULTURE\n",
              "centroid                                                              ...                                                   \n",
              "Point (1000000.08652894 6510087.46241743)  [PPH, PPH, PPH, PPH, PPH]  ...  [Prairies permanentes, Prairies permanentes, P...\n",
              "Point (1000000.63976388 6471730.5886227)   [PPH, PPH, PPH, PPH, PPH]  ...  [Prairies permanentes, Prairies permanentes, P...\n",
              "Point (1000000.99403502 6373722.56080617)  [PPH, PPH, PPH, PPH, SPL]  ...  [Prairies permanentes, Prairies permanentes, P...\n",
              "Point (1000001.31785654 6472025.93934252)  [PTR, PTR, MH5, MH5, MH6]  ...  [Prairies temporaires, Prairies temporaires, F...\n",
              "Point (1000002.51285272 6894831.40789418)  [PPH, PPH, PPH, PPH, PPH]  ...  [Prairies permanentes, Prairies permanentes, P...\n",
              "\n",
              "[5 rows x 5 columns]"
            ]
          },
          "metadata": {
            "tags": []
          },
          "execution_count": 29
        }
      ]
    },
    {
      "cell_type": "markdown",
      "metadata": {
        "id": "nf3jybEGIUdh"
      },
      "source": [
        "ппц сколько считаеться - у меня 1 % посчитался за 2 минуты"
      ]
    },
    {
      "cell_type": "code",
      "metadata": {
        "id": "ryKSx-5qJB9z"
      },
      "source": [
        "df_train_grouped_full"
      ],
      "execution_count": null,
      "outputs": []
    },
    {
      "cell_type": "code",
      "metadata": {
        "id": "buWyHc-EOu4l"
      },
      "source": [
        "columns = [f'{column}_{year}' for column in df_train_full.columns.drop(['CENTROID', 'YEAR']) for year in df_train_full['YEAR'].unique()] + ['LATITUDE', 'LONGTITUDE']\n",
        "new_df_train = pd.DataFrame(columns=columns)\n",
        "new_df_train.to_csv(\"grouped_train_full.csv\", index=False)\n",
        "\n",
        "for row in tqdm(df_train_grouped_full.iterrows(), total=len(df_train_grouped_full)):\n",
        "    if len(new_df_train) == 1000:\n",
        "        new_df_train.to_csv(\"grouped_train_full.csv\", mode='a', header=False, index=False, columns=columns)\n",
        "        del new_df_train\n",
        "        new_df_train = pd.DataFrame(columns=columns)\n",
        "    regex = re.search('(?P<lat>\\d+\\.?\\d*)\\s(?P<long>\\d+\\.?\\d*)', row[0])\n",
        "    new_df_train = new_df_train.append({**{f'{column}_{year}': row[1][column][i] for column in row[1].keys().drop('YEAR') for i, year in enumerate(row[1]['YEAR'])}, **{'LATITUDE': regex.group('lat'), 'LONGTITUDE': regex.group('long')}}, ignore_index=True)\n",
        "    \n",
        "\n",
        "new_df_train.head()"
      ],
      "execution_count": null,
      "outputs": []
    },
    {
      "cell_type": "code",
      "metadata": {
        "id": "Wzj5srBeYMv_"
      },
      "source": [
        "grouped_df_train = pd.read_csv(\"dvhb_data/train/grouped_train_full.csv\")"
      ],
      "execution_count": null,
      "outputs": []
    },
    {
      "cell_type": "code",
      "metadata": {
        "colab": {
          "base_uri": "https://localhost:8080/",
          "height": 756
        },
        "id": "slUj4pXbYeGk",
        "outputId": "367eae20-4f04-4e12-d068-d3168b9f5d1e"
      },
      "source": [
        "grouped_df_train"
      ],
      "execution_count": null,
      "outputs": [
        {
          "output_type": "execute_result",
          "data": {
            "text/html": [
              "<div>\n",
              "<style scoped>\n",
              "    .dataframe tbody tr th:only-of-type {\n",
              "        vertical-align: middle;\n",
              "    }\n",
              "\n",
              "    .dataframe tbody tr th {\n",
              "        vertical-align: top;\n",
              "    }\n",
              "\n",
              "    .dataframe thead th {\n",
              "        text-align: right;\n",
              "    }\n",
              "</style>\n",
              "<table border=\"1\" class=\"dataframe\">\n",
              "  <thead>\n",
              "    <tr style=\"text-align: right;\">\n",
              "      <th></th>\n",
              "      <th>CODE_CULTU_2015</th>\n",
              "      <th>CODE_CULTU_2016</th>\n",
              "      <th>CODE_CULTU_2017</th>\n",
              "      <th>CODE_CULTU_2018</th>\n",
              "      <th>CODE_CULTU_2019</th>\n",
              "      <th>CODE_GROUP_2015</th>\n",
              "      <th>CODE_GROUP_2016</th>\n",
              "      <th>CODE_GROUP_2017</th>\n",
              "      <th>CODE_GROUP_2018</th>\n",
              "      <th>CODE_GROUP_2019</th>\n",
              "      <th>GROUPE_CULTURE_2015</th>\n",
              "      <th>GROUPE_CULTURE_2016</th>\n",
              "      <th>GROUPE_CULTURE_2017</th>\n",
              "      <th>GROUPE_CULTURE_2018</th>\n",
              "      <th>GROUPE_CULTURE_2019</th>\n",
              "      <th>LIBELLE_CULTURE_2015</th>\n",
              "      <th>LIBELLE_CULTURE_2016</th>\n",
              "      <th>LIBELLE_CULTURE_2017</th>\n",
              "      <th>LIBELLE_CULTURE_2018</th>\n",
              "      <th>LIBELLE_CULTURE_2019</th>\n",
              "      <th>LATITUDE</th>\n",
              "      <th>LONGTITUDE</th>\n",
              "    </tr>\n",
              "  </thead>\n",
              "  <tbody>\n",
              "    <tr>\n",
              "      <th>0</th>\n",
              "      <td>PPH</td>\n",
              "      <td>PPH</td>\n",
              "      <td>PPH</td>\n",
              "      <td>PPH</td>\n",
              "      <td>PPH</td>\n",
              "      <td>18</td>\n",
              "      <td>18</td>\n",
              "      <td>18</td>\n",
              "      <td>18</td>\n",
              "      <td>18</td>\n",
              "      <td>Prairie permanente - herbe prédominante (resso...</td>\n",
              "      <td>Prairie permanente - herbe prédominante (resso...</td>\n",
              "      <td>Prairie permanente - herbe prédominante (resso...</td>\n",
              "      <td>Prairie permanente - herbe prédominante (resso...</td>\n",
              "      <td>Prairie permanente - herbe prédominante (resso...</td>\n",
              "      <td>Prairies permanentes</td>\n",
              "      <td>Prairies permanentes</td>\n",
              "      <td>Prairies permanentes</td>\n",
              "      <td>Prairies permanentes</td>\n",
              "      <td>Prairies permanentes</td>\n",
              "      <td>1.000000e+06</td>\n",
              "      <td>6.510087e+06</td>\n",
              "    </tr>\n",
              "    <tr>\n",
              "      <th>1</th>\n",
              "      <td>PPH</td>\n",
              "      <td>PPH</td>\n",
              "      <td>PPH</td>\n",
              "      <td>PPH</td>\n",
              "      <td>PPH</td>\n",
              "      <td>18</td>\n",
              "      <td>18</td>\n",
              "      <td>18</td>\n",
              "      <td>18</td>\n",
              "      <td>18</td>\n",
              "      <td>Prairie permanente - herbe prédominante (resso...</td>\n",
              "      <td>Prairie permanente - herbe prédominante (resso...</td>\n",
              "      <td>Prairie permanente - herbe prédominante (resso...</td>\n",
              "      <td>Prairie permanente - herbe prédominante (resso...</td>\n",
              "      <td>Prairie permanente - herbe prédominante (resso...</td>\n",
              "      <td>Prairies permanentes</td>\n",
              "      <td>Prairies permanentes</td>\n",
              "      <td>Prairies permanentes</td>\n",
              "      <td>Prairies permanentes</td>\n",
              "      <td>Prairies permanentes</td>\n",
              "      <td>1.000001e+06</td>\n",
              "      <td>6.471731e+06</td>\n",
              "    </tr>\n",
              "    <tr>\n",
              "      <th>2</th>\n",
              "      <td>SPL</td>\n",
              "      <td>PPH</td>\n",
              "      <td>PPH</td>\n",
              "      <td>PPH</td>\n",
              "      <td>PPH</td>\n",
              "      <td>17</td>\n",
              "      <td>18</td>\n",
              "      <td>18</td>\n",
              "      <td>18</td>\n",
              "      <td>18</td>\n",
              "      <td>Surface pastorale - ressources fourragères lig...</td>\n",
              "      <td>Prairie permanente - herbe prédominante (resso...</td>\n",
              "      <td>Prairie permanente - herbe prédominante (resso...</td>\n",
              "      <td>Prairie permanente - herbe prédominante (resso...</td>\n",
              "      <td>Prairie permanente - herbe prédominante (resso...</td>\n",
              "      <td>Estives et landes</td>\n",
              "      <td>Prairies permanentes</td>\n",
              "      <td>Prairies permanentes</td>\n",
              "      <td>Prairies permanentes</td>\n",
              "      <td>Prairies permanentes</td>\n",
              "      <td>1.000001e+06</td>\n",
              "      <td>6.373723e+06</td>\n",
              "    </tr>\n",
              "    <tr>\n",
              "      <th>3</th>\n",
              "      <td>MH5</td>\n",
              "      <td>MH5</td>\n",
              "      <td>MH6</td>\n",
              "      <td>PTR</td>\n",
              "      <td>PTR</td>\n",
              "      <td>16</td>\n",
              "      <td>16</td>\n",
              "      <td>16</td>\n",
              "      <td>19</td>\n",
              "      <td>19</td>\n",
              "      <td>Mélange de légumineuses fourragères prépondéra...</td>\n",
              "      <td>Mélange de légumineuses fourragères prépondéra...</td>\n",
              "      <td>Mélange de légumineuses fourragères prépondéra...</td>\n",
              "      <td>Autre prairie temporaire de 5 ans ou moins</td>\n",
              "      <td>Autre prairie temporaire de 5 ans ou moins</td>\n",
              "      <td>Fourrage</td>\n",
              "      <td>Fourrage</td>\n",
              "      <td>Fourrage</td>\n",
              "      <td>Prairies temporaires</td>\n",
              "      <td>Prairies temporaires</td>\n",
              "      <td>1.000001e+06</td>\n",
              "      <td>6.472026e+06</td>\n",
              "    </tr>\n",
              "    <tr>\n",
              "      <th>4</th>\n",
              "      <td>PPH</td>\n",
              "      <td>PPH</td>\n",
              "      <td>PPH</td>\n",
              "      <td>PPH</td>\n",
              "      <td>PPH</td>\n",
              "      <td>18</td>\n",
              "      <td>18</td>\n",
              "      <td>18</td>\n",
              "      <td>18</td>\n",
              "      <td>18</td>\n",
              "      <td>Prairie permanente - herbe prédominante (resso...</td>\n",
              "      <td>Prairie permanente - herbe prédominante (resso...</td>\n",
              "      <td>Prairie permanente - herbe prédominante (resso...</td>\n",
              "      <td>Prairie permanente - herbe prédominante (resso...</td>\n",
              "      <td>Prairie permanente - herbe prédominante (resso...</td>\n",
              "      <td>Prairies permanentes</td>\n",
              "      <td>Prairies permanentes</td>\n",
              "      <td>Prairies permanentes</td>\n",
              "      <td>Prairies permanentes</td>\n",
              "      <td>Prairies permanentes</td>\n",
              "      <td>1.000003e+06</td>\n",
              "      <td>6.894831e+06</td>\n",
              "    </tr>\n",
              "    <tr>\n",
              "      <th>...</th>\n",
              "      <td>...</td>\n",
              "      <td>...</td>\n",
              "      <td>...</td>\n",
              "      <td>...</td>\n",
              "      <td>...</td>\n",
              "      <td>...</td>\n",
              "      <td>...</td>\n",
              "      <td>...</td>\n",
              "      <td>...</td>\n",
              "      <td>...</td>\n",
              "      <td>...</td>\n",
              "      <td>...</td>\n",
              "      <td>...</td>\n",
              "      <td>...</td>\n",
              "      <td>...</td>\n",
              "      <td>...</td>\n",
              "      <td>...</td>\n",
              "      <td>...</td>\n",
              "      <td>...</td>\n",
              "      <td>...</td>\n",
              "      <td>...</td>\n",
              "      <td>...</td>\n",
              "    </tr>\n",
              "    <tr>\n",
              "      <th>3613995</th>\n",
              "      <td>PRL</td>\n",
              "      <td>PRL</td>\n",
              "      <td>PRL</td>\n",
              "      <td>PPH</td>\n",
              "      <td>PPH</td>\n",
              "      <td>18</td>\n",
              "      <td>18</td>\n",
              "      <td>18</td>\n",
              "      <td>18</td>\n",
              "      <td>18</td>\n",
              "      <td>Prairie en rotation longue (6 ans ou plus)</td>\n",
              "      <td>Prairie en rotation longue (6 ans ou plus)</td>\n",
              "      <td>Prairie en rotation longue (6 ans ou plus)</td>\n",
              "      <td>Prairie permanente - herbe prédominante (resso...</td>\n",
              "      <td>Prairie permanente - herbe prédominante (resso...</td>\n",
              "      <td>Prairies permanentes</td>\n",
              "      <td>Prairies permanentes</td>\n",
              "      <td>Prairies permanentes</td>\n",
              "      <td>Prairies permanentes</td>\n",
              "      <td>Prairies permanentes</td>\n",
              "      <td>9.995372e+05</td>\n",
              "      <td>6.471052e+06</td>\n",
              "    </tr>\n",
              "    <tr>\n",
              "      <th>3613996</th>\n",
              "      <td>PPH</td>\n",
              "      <td>PPH</td>\n",
              "      <td>PPH</td>\n",
              "      <td>PPH</td>\n",
              "      <td>PPH</td>\n",
              "      <td>18</td>\n",
              "      <td>18</td>\n",
              "      <td>18</td>\n",
              "      <td>18</td>\n",
              "      <td>18</td>\n",
              "      <td>Prairie permanente - herbe prédominante (resso...</td>\n",
              "      <td>Prairie permanente - herbe prédominante (resso...</td>\n",
              "      <td>Prairie permanente - herbe prédominante (resso...</td>\n",
              "      <td>Prairie permanente - herbe prédominante (resso...</td>\n",
              "      <td>Prairie permanente - herbe prédominante (resso...</td>\n",
              "      <td>Prairies permanentes</td>\n",
              "      <td>Prairies permanentes</td>\n",
              "      <td>Prairies permanentes</td>\n",
              "      <td>Prairies permanentes</td>\n",
              "      <td>Prairies permanentes</td>\n",
              "      <td>9.995386e+05</td>\n",
              "      <td>6.788438e+06</td>\n",
              "    </tr>\n",
              "    <tr>\n",
              "      <th>3613997</th>\n",
              "      <td>TTH</td>\n",
              "      <td>MH6</td>\n",
              "      <td>PTR</td>\n",
              "      <td>PTR</td>\n",
              "      <td>MLG</td>\n",
              "      <td>4</td>\n",
              "      <td>16</td>\n",
              "      <td>19</td>\n",
              "      <td>19</td>\n",
              "      <td>16</td>\n",
              "      <td>Triticale dhiver</td>\n",
              "      <td>Mélange de légumineuses fourragères prépondéra...</td>\n",
              "      <td>Autre prairie temporaire de 5 ans ou moins</td>\n",
              "      <td>Autre prairie temporaire de 5 ans ou moins</td>\n",
              "      <td>Mélange de légumineuses prépondérantes au semi...</td>\n",
              "      <td>Autres céréales</td>\n",
              "      <td>Fourrage</td>\n",
              "      <td>Prairies temporaires</td>\n",
              "      <td>Prairies temporaires</td>\n",
              "      <td>Fourrage</td>\n",
              "      <td>9.995392e+05</td>\n",
              "      <td>6.893094e+06</td>\n",
              "    </tr>\n",
              "    <tr>\n",
              "      <th>3613998</th>\n",
              "      <td>CZH</td>\n",
              "      <td>BTH</td>\n",
              "      <td>MIE</td>\n",
              "      <td>BTH</td>\n",
              "      <td>ORH</td>\n",
              "      <td>5</td>\n",
              "      <td>1</td>\n",
              "      <td>2</td>\n",
              "      <td>1</td>\n",
              "      <td>3</td>\n",
              "      <td>Colza dhiver</td>\n",
              "      <td>Blé tendre dhiver</td>\n",
              "      <td>Maïs ensilage</td>\n",
              "      <td>Blé tendre dhiver</td>\n",
              "      <td>Orge d'hiver</td>\n",
              "      <td>Colza</td>\n",
              "      <td>Blé tendre</td>\n",
              "      <td>Maïs grain et ensilage</td>\n",
              "      <td>Blé tendre</td>\n",
              "      <td>Orge</td>\n",
              "      <td>9.995394e+05</td>\n",
              "      <td>6.714507e+06</td>\n",
              "    </tr>\n",
              "    <tr>\n",
              "      <th>3613999</th>\n",
              "      <td>SPH</td>\n",
              "      <td>SPH</td>\n",
              "      <td>SPH</td>\n",
              "      <td>SPH</td>\n",
              "      <td>SPH</td>\n",
              "      <td>17</td>\n",
              "      <td>17</td>\n",
              "      <td>17</td>\n",
              "      <td>17</td>\n",
              "      <td>17</td>\n",
              "      <td>Surface pastorale - herbe prédominante et ress...</td>\n",
              "      <td>Surface pastorale - herbe prédominante et ress...</td>\n",
              "      <td>Surface pastorale - herbe prédominante et ress...</td>\n",
              "      <td>Surface pastorale - herbe prédominante et ress...</td>\n",
              "      <td>Surface pastorale - herbe prédominante et ress...</td>\n",
              "      <td>Estives et landes</td>\n",
              "      <td>Estives et landes</td>\n",
              "      <td>Estives et landes</td>\n",
              "      <td>Estives et landes</td>\n",
              "      <td>Estives et landes</td>\n",
              "      <td>9.995394e+05</td>\n",
              "      <td>6.805655e+06</td>\n",
              "    </tr>\n",
              "  </tbody>\n",
              "</table>\n",
              "<p>3614000 rows × 22 columns</p>\n",
              "</div>"
            ],
            "text/plain": [
              "        CODE_CULTU_2015 CODE_CULTU_2016  ...      LATITUDE    LONGTITUDE\n",
              "0                   PPH             PPH  ...  1.000000e+06  6.510087e+06\n",
              "1                   PPH             PPH  ...  1.000001e+06  6.471731e+06\n",
              "2                   SPL             PPH  ...  1.000001e+06  6.373723e+06\n",
              "3                   MH5             MH5  ...  1.000001e+06  6.472026e+06\n",
              "4                   PPH             PPH  ...  1.000003e+06  6.894831e+06\n",
              "...                 ...             ...  ...           ...           ...\n",
              "3613995             PRL             PRL  ...  9.995372e+05  6.471052e+06\n",
              "3613996             PPH             PPH  ...  9.995386e+05  6.788438e+06\n",
              "3613997             TTH             MH6  ...  9.995392e+05  6.893094e+06\n",
              "3613998             CZH             BTH  ...  9.995394e+05  6.714507e+06\n",
              "3613999             SPH             SPH  ...  9.995394e+05  6.805655e+06\n",
              "\n",
              "[3614000 rows x 22 columns]"
            ]
          },
          "metadata": {
            "tags": []
          },
          "execution_count": 22
        }
      ]
    },
    {
      "cell_type": "code",
      "metadata": {
        "id": "W9JFRcDtwXpx"
      },
      "source": [
        "com1 = grouped_df_train.sample(361400).copy()\r\n",
        "pd.save_csv(\"com1.csv\")"
      ],
      "execution_count": null,
      "outputs": []
    },
    {
      "cell_type": "code",
      "metadata": {
        "colab": {
          "base_uri": "https://localhost:8080/"
        },
        "id": "EEbCoCarY7Uc",
        "outputId": "f39545de-53a3-497a-dad0-adf2529b4423"
      },
      "source": [
        "grouped_df_train.isnull().sum()"
      ],
      "execution_count": null,
      "outputs": [
        {
          "output_type": "execute_result",
          "data": {
            "text/plain": [
              "CODE_CULTU_2015         0\n",
              "CODE_CULTU_2016         0\n",
              "CODE_CULTU_2017         0\n",
              "CODE_CULTU_2018         0\n",
              "CODE_CULTU_2019         0\n",
              "CODE_GROUP_2015         0\n",
              "CODE_GROUP_2016         0\n",
              "CODE_GROUP_2017         0\n",
              "CODE_GROUP_2018         0\n",
              "CODE_GROUP_2019         0\n",
              "GROUPE_CULTURE_2015     0\n",
              "GROUPE_CULTURE_2016     0\n",
              "GROUPE_CULTURE_2017     0\n",
              "GROUPE_CULTURE_2018     0\n",
              "GROUPE_CULTURE_2019     0\n",
              "LIBELLE_CULTURE_2015    0\n",
              "LIBELLE_CULTURE_2016    0\n",
              "LIBELLE_CULTURE_2017    0\n",
              "LIBELLE_CULTURE_2018    0\n",
              "LIBELLE_CULTURE_2019    0\n",
              "LATITUDE                0\n",
              "LONGTITUDE              0\n",
              "dtype: int64"
            ]
          },
          "metadata": {
            "tags": []
          },
          "execution_count": 26
        }
      ]
    },
    {
      "cell_type": "code",
      "metadata": {
        "id": "AULG8tgTrxBJ",
        "colab": {
          "base_uri": "https://localhost:8080/",
          "height": 164
        },
        "outputId": "ebfa82d6-0f4f-460d-f04c-7e85674ce31b"
      },
      "source": [
        "grouped_df_train.sample(n = int(len(grouped_df_train)/10)).to_csv('sample_10.csv')"
      ],
      "execution_count": null,
      "outputs": [
        {
          "output_type": "error",
          "ename": "NameError",
          "evalue": "ignored",
          "traceback": [
            "\u001b[0;31m---------------------------------------------------------------------------\u001b[0m",
            "\u001b[0;31mNameError\u001b[0m                                 Traceback (most recent call last)",
            "\u001b[0;32m<ipython-input-1-355f59705f84>\u001b[0m in \u001b[0;36m<module>\u001b[0;34m()\u001b[0m\n\u001b[0;32m----> 1\u001b[0;31m \u001b[0mgrouped_df_train\u001b[0m\u001b[0;34m.\u001b[0m\u001b[0msample\u001b[0m\u001b[0;34m(\u001b[0m\u001b[0mn\u001b[0m \u001b[0;34m=\u001b[0m \u001b[0mint\u001b[0m\u001b[0;34m(\u001b[0m\u001b[0mlen\u001b[0m\u001b[0;34m(\u001b[0m\u001b[0mgrouped_df_train\u001b[0m\u001b[0;34m)\u001b[0m\u001b[0;34m/\u001b[0m\u001b[0;36m10\u001b[0m\u001b[0;34m)\u001b[0m\u001b[0;34m)\u001b[0m\u001b[0;34m.\u001b[0m\u001b[0mto_csv\u001b[0m\u001b[0;34m(\u001b[0m\u001b[0;34m'sample_10.csv'\u001b[0m\u001b[0;34m)\u001b[0m\u001b[0;34m\u001b[0m\u001b[0;34m\u001b[0m\u001b[0m\n\u001b[0m",
            "\u001b[0;31mNameError\u001b[0m: name 'grouped_df_train' is not defined"
          ]
        }
      ]
    },
    {
      "cell_type": "code",
      "metadata": {
        "id": "1KmnV1o0z6Jr"
      },
      "source": [
        "grouped_df_train = pd.read_csv(\"http://35.156.82.253:8000/grouped_train_full.csv\")"
      ],
      "execution_count": null,
      "outputs": []
    },
    {
      "cell_type": "code",
      "metadata": {
        "colab": {
          "base_uri": "https://localhost:8080/",
          "height": 135
        },
        "id": "8BYrFuvJ0jmK",
        "outputId": "39c6809b-108e-4d78-b0d4-d7343f32d1aa"
      },
      "source": [
        "grouped_df_train.head(1)"
      ],
      "execution_count": null,
      "outputs": [
        {
          "output_type": "execute_result",
          "data": {
            "text/html": [
              "<div>\n",
              "<style scoped>\n",
              "    .dataframe tbody tr th:only-of-type {\n",
              "        vertical-align: middle;\n",
              "    }\n",
              "\n",
              "    .dataframe tbody tr th {\n",
              "        vertical-align: top;\n",
              "    }\n",
              "\n",
              "    .dataframe thead th {\n",
              "        text-align: right;\n",
              "    }\n",
              "</style>\n",
              "<table border=\"1\" class=\"dataframe\">\n",
              "  <thead>\n",
              "    <tr style=\"text-align: right;\">\n",
              "      <th></th>\n",
              "      <th>Unnamed: 0</th>\n",
              "      <th>CODE_CULT_2015</th>\n",
              "      <th>CODE_CULT_2016</th>\n",
              "      <th>CODE_CULT_2017</th>\n",
              "      <th>CODE_CULT_2018</th>\n",
              "      <th>CODE_CULT_2019</th>\n",
              "      <th>CODE_GROUP_2015</th>\n",
              "      <th>CODE_GROUP_2016</th>\n",
              "      <th>CODE_GROUP_2017</th>\n",
              "      <th>CODE_GROUP_2018</th>\n",
              "      <th>CODE_GROUP_2019</th>\n",
              "      <th>LATITUDE</th>\n",
              "      <th>LONGTITUDE</th>\n",
              "    </tr>\n",
              "  </thead>\n",
              "  <tbody>\n",
              "    <tr>\n",
              "      <th>0</th>\n",
              "      <td>Point (1000000.08652894 6510087.46241743)</td>\n",
              "      <td>PPH</td>\n",
              "      <td>PPH</td>\n",
              "      <td>PPH</td>\n",
              "      <td>PPH</td>\n",
              "      <td>PPH</td>\n",
              "      <td>18</td>\n",
              "      <td>18</td>\n",
              "      <td>18</td>\n",
              "      <td>18</td>\n",
              "      <td>18</td>\n",
              "      <td>1.000000e+06</td>\n",
              "      <td>6.510087e+06</td>\n",
              "    </tr>\n",
              "  </tbody>\n",
              "</table>\n",
              "</div>"
            ],
            "text/plain": [
              "                                  Unnamed: 0  ...    LONGTITUDE\n",
              "0  Point (1000000.08652894 6510087.46241743)  ...  6.510087e+06\n",
              "\n",
              "[1 rows x 13 columns]"
            ]
          },
          "metadata": {
            "tags": []
          },
          "execution_count": 9
        }
      ]
    },
    {
      "cell_type": "code",
      "metadata": {
        "colab": {
          "base_uri": "https://localhost:8080/"
        },
        "id": "3vekS_uLzwHh",
        "outputId": "a00769ca-dfce-4384-f321-abc4bbdfcbc9"
      },
      "source": [
        "import gensim\n",
        "from gensim import corpora\n",
        "from pprint import pprint\n",
        "from sklearn.model_selection import train_test_split\n",
        "!pip install catboost\n",
        "from catboost import CatBoostClassifier\n",
        "from sklearn.metrics import confusion_matrix, classification_report,roc_auc_score\n",
        "from sklearn.metrics import accuracy_score"
      ],
      "execution_count": null,
      "outputs": [
        {
          "output_type": "stream",
          "text": [
            "Requirement already satisfied: catboost in /usr/local/lib/python3.7/dist-packages (0.24.4)\n",
            "Requirement already satisfied: numpy>=1.16.0 in /usr/local/lib/python3.7/dist-packages (from catboost) (1.19.5)\n",
            "Requirement already satisfied: graphviz in /usr/local/lib/python3.7/dist-packages (from catboost) (0.10.1)\n",
            "Requirement already satisfied: matplotlib in /usr/local/lib/python3.7/dist-packages (from catboost) (3.2.2)\n",
            "Requirement already satisfied: six in /usr/local/lib/python3.7/dist-packages (from catboost) (1.15.0)\n",
            "Requirement already satisfied: plotly in /usr/local/lib/python3.7/dist-packages (from catboost) (4.4.1)\n",
            "Requirement already satisfied: pandas>=0.24.0 in /usr/local/lib/python3.7/dist-packages (from catboost) (1.1.5)\n",
            "Requirement already satisfied: scipy in /usr/local/lib/python3.7/dist-packages (from catboost) (1.4.1)\n",
            "Requirement already satisfied: cycler>=0.10 in /usr/local/lib/python3.7/dist-packages (from matplotlib->catboost) (0.10.0)\n",
            "Requirement already satisfied: kiwisolver>=1.0.1 in /usr/local/lib/python3.7/dist-packages (from matplotlib->catboost) (1.3.1)\n",
            "Requirement already satisfied: python-dateutil>=2.1 in /usr/local/lib/python3.7/dist-packages (from matplotlib->catboost) (2.8.1)\n",
            "Requirement already satisfied: pyparsing!=2.0.4,!=2.1.2,!=2.1.6,>=2.0.1 in /usr/local/lib/python3.7/dist-packages (from matplotlib->catboost) (2.4.7)\n",
            "Requirement already satisfied: retrying>=1.3.3 in /usr/local/lib/python3.7/dist-packages (from plotly->catboost) (1.3.3)\n",
            "Requirement already satisfied: pytz>=2017.2 in /usr/local/lib/python3.7/dist-packages (from pandas>=0.24.0->catboost) (2018.9)\n"
          ],
          "name": "stdout"
        }
      ]
    },
    {
      "cell_type": "code",
      "metadata": {
        "id": "E1-Wdso5zwxk"
      },
      "source": [
        "from catboost.utils import eval_metric\n",
        "# Пашин датасет, оставлю только растения и место\n",
        "df_test_swetlana = grouped_df_train[['CODE_CULT_2015','CODE_CULT_2016','CODE_CULT_2017','CODE_CULT_2018','CODE_CULT_2019','LATITUDE','LONGTITUDE']].copy()\n",
        "\n",
        "# кодирую слова векторами\n",
        "text = [df_train_full['CODE_CULT'].tolist()]\n",
        "dictionary = corpora.Dictionary(text)\n",
        "\n",
        "#заменяем значения в столбце object_name_n на данные из словаря, а ключи берем из столбца object_type_number\n",
        "df_test_swetlana['CODE_CULT_2019'] = df_test_swetlana['CODE_CULT_2019'].map(dictionary.token2id)\n",
        "df_test_swetlana['CODE_CULT_2018'] = df_test_swetlana['CODE_CULT_2018'].map(dictionary.token2id)\n",
        "df_test_swetlana['CODE_CULT_2017'] = df_test_swetlana['CODE_CULT_2017'].map(dictionary.token2id)\n",
        "df_test_swetlana['CODE_CULT_2016'] = df_test_swetlana['CODE_CULT_2016'].map(dictionary.token2id)\n",
        "df_test_swetlana['CODE_CULT_2015'] = df_test_swetlana['CODE_CULT_2015'].map(dictionary.token2id)\n",
        "\n",
        "# делим\n",
        "X = df_test_swetlana.drop(['CODE_CULT_2019', ], axis=1)\n",
        "y = df_test_swetlana['CODE_CULT_2019']\n",
        "\n",
        "features_train, features_valid, target_train, target_valid = train_test_split(\n",
        "    X, y, test_size=0.25, random_state=12345)\n",
        "\n",
        "\n",
        "model = CatBoostClassifier(verbose=100,\n",
        "                           learning_rate=0.7,\n",
        "                           early_stopping_rounds=200,\n",
        "                           eval_metric='AUC',\n",
        "                           #task_type=\"GPU\",\n",
        "                           )\n",
        "\n",
        "model.fit(features_train, target_train) \n",
        "predictions_valid = model.predict(features_valid) \n",
        "\n",
        "print(accuracy_score(target_valid, predictions_valid))\n"
      ],
      "execution_count": null,
      "outputs": []
    },
    {
      "cell_type": "code",
      "metadata": {
        "id": "C9VdZVTMz0Ad"
      },
      "source": [
        ""
      ],
      "execution_count": null,
      "outputs": []
    }
  ]
}